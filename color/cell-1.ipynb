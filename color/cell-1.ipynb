from IPython.display import display, Javascript
from google.colab.output import eval_js
from base64 import b64decode
import cv2
import numpy as np
import matplotlib.pyplot as plt

imgshp = (96, 64)  # 약 4분 소요
#imgshp = (192, 128)  # 약 --분 소요

# 함수: 사진 촬영
def take_photo(filename='photo.jpg', quality=0.8):
    js = Javascript('''
        async function takePhoto(quality) {
            const div = document.createElement('div');
            const capture = document.createElement('button');
            capture.textContent = 'Capture';
            div.appendChild(capture);

            const video = document.createElement('video');
            video.style.display = 'block';
            const stream = await navigator.mediaDevices.getUserMedia({ video: { facingMode: "environment" } });

            document.body.appendChild(div);
            div.appendChild(video);
            video.srcObject = stream;
            await video.play();

            // Resize the output to fit the video element.
            google.colab.output.setIframeHeight(document.documentElement.scrollHeight, true);

            // Wait for Capture to be clicked.
            await new Promise((resolve) => capture.onclick = resolve);

            const canvas = document.createElement('canvas');
            canvas.width = video.videoWidth;
            canvas.height = video.videoHeight;
            canvas.getContext('2d').drawImage(video, 0, 0);
            stream.getVideoTracks()[0].stop();
            div.remove();
            return canvas.toDataURL('image/jpeg', quality);
        }
    ''')
    display(js)

    data = eval_js('takePhoto({})'.format(quality))
    binary = b64decode(data.split(',')[1])
    with open(filename, 'wb') as f:
        f.write(binary)
    return filename

# 함수: 이미지 전처리
def preprocess_image(image_path, size=imgshp):
    img = cv2.imread(image_path)
    resized = cv2.resize(img, size)  # 크기 조정

    # RGB 채널 분리
    red_channel = resized[:, :, 2]
    green_channel = resized[:, :, 1]
    blue_channel = resized[:, :, 0]

    # 정규화
    red_channel = red_channel / 255.0
    green_channel = green_channel / 255.0
    blue_channel = blue_channel / 255.0

    return resized, red_channel, green_channel, blue_channel

# 사진 촬영 및 전처리 수행
try:
    filename = take_photo()
    print('Saved to {}'.format(filename))

    # 원본 이미지 읽기
    original_img = cv2.imread(filename)

    # 전처리된 이미지 획득
    processed_image, red_channel, green_channel, blue_channel = preprocess_image(filename)
    print('Image data preprocessed.')

    # 원본 이미지와 전처리된 이미지 시각화
    plt.figure(figsize=(15, 6))

    # 원본 이미지
    plt.subplot(1, 5, 1)
    plt.imshow(cv2.cvtColor(original_img, cv2.COLOR_BGR2RGB))
    plt.title('Original Image')
    plt.axis('off')

    # 통합된 전처리 이미지
    plt.subplot(1, 5, 2)
    plt.imshow(cv2.cvtColor(processed_image, cv2.COLOR_BGR2RGB))
    plt.title('Processed Image')
    plt.axis('off')

    # R 채널 이미지
    plt.subplot(1, 5, 3)
    plt.imshow(red_channel, cmap='Reds')
    plt.title('Red Channel')
    plt.axis('off')

    # G 채널 이미지
    plt.subplot(1, 5, 4)
    plt.imshow(green_channel, cmap='Greens')
    plt.title('Green Channel')
    plt.axis('off')

    # B 채널 이미지
    plt.subplot(1, 5, 5)
    plt.imshow(blue_channel, cmap='Blues')
    plt.title('Blue Channel')
    plt.axis('off')

    plt.show()

except Exception as err:
    print(str(err))
