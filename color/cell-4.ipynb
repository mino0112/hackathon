# 함수: 감각 인지 결과 시각화 (이미지 재생성)
def visualize_sensation(r_recordings, g_recordings, b_recordings, image_shape=imgshp):
    # 각 채널에 대한 전위값 평균 계산
    r_voltage_values = np.zeros(image_shape).flatten()
    g_voltage_values = np.zeros(image_shape).flatten()
    b_voltage_values = np.zeros(image_shape).flatten()

    for i, recording in enumerate(r_recordings):
        voltage_array = np.array(recording)  # NEURON 벡터 객체를 numpy 배열로 변환
        r_voltage_values[i] = np.mean(voltage_array)

    for i, recording in enumerate(g_recordings):
        voltage_array = np.array(recording)  # NEURON 벡터 객체를 numpy 배열로 변환
        g_voltage_values[i] = np.mean(voltage_array)

    for i, recording in enumerate(b_recordings):
        voltage_array = np.array(recording)  # NEURON 벡터 객체를 numpy 배열로 변환
        b_voltage_values[i] = np.mean(voltage_array)

    r_voltage_values = r_voltage_values.reshape(image_shape)
    g_voltage_values = g_voltage_values.reshape(image_shape)
    b_voltage_values = b_voltage_values.reshape(image_shape)

    # 각 채널에 대해 전치
    r_reconstructed_image = np.transpose(r_voltage_values)
    g_reconstructed_image = np.transpose(g_voltage_values)
    b_reconstructed_image = np.transpose(b_voltage_values)

    # 전위값 기반 이미지 생성 (정규화)
    def normalize(image):
        min_v = image.min()
        max_v = image.max()
        if max_v > min_v:  # 정규화가 가능한 경우
            return (image - min_v) / (max_v - min_v)
        else:
            return image  # 모든 값이 동일한 경우

    r_normalized = normalize(r_reconstructed_image)
    g_normalized = normalize(g_reconstructed_image)
    b_normalized = normalize(b_reconstructed_image)

    # 세 채널 합성하여 최종 RGB 이미지 생성
    reconstructed_image = np.stack([r_normalized, g_normalized, b_normalized], axis=-1)

    plt.figure(figsize=(6, 6))
    plt.imshow(reconstructed_image)
    plt.colorbar(label='Normalized Voltage')
    plt.title('Reconstructed Image Based on Neuron Voltage')
    plt.axis('off')
    plt.show()

# 감각 인지 결과 시각화
if rank == 0 and 'all_recordings_red' in locals() and 'all_recordings_green' in locals() and 'all_recordings_blue' in locals():
    visualize_sensation(all_recordings_red[0], all_recordings_green[0], all_recordings_blue[0])
else:
    print('Please ensure that the NEURON model has been run and results are available.')
