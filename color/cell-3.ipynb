from neuron import h, gui
import numpy as np
import matplotlib.pyplot as plt
from mpi4py import MPI

# MPI 초기화
comm = MPI.COMM_WORLD
rank = comm.Get_rank()
size = comm.Get_size()

pc = h.ParallelContext()  # 병렬 처리 컨텍스트 생성
pc.id(rank)
pc.nthread(size)

# 함수: NEURON 모델 설정 및 실행
def run_neuron_model(image_data):
    num_neurons = image_data.size  # 이미지의 크기에 따라 뉴런 수 결정
    cells = []
    stims = []

    for i in range(rank, num_neurons, size):  # 병렬 처리: 각 프로세스가 부분 뉴런만 처리
        cell = h.Section(name='cell_{}'.format(i))
        cell.insert('hh')
        stim = h.IClamp(cell(0.5))
        stim.amp = image_data.flatten()[i] * 10  # 자극의 강도를 10으로 증가
        stim.delay = 5
        stim.dur = 1e9
        cells.append(cell)
        stims.append(stim)

    # 기록 설정
    recordings = []
    for cell in cells:
        v = h.Vector().record(cell(0.5)._ref_v)
        recordings.append(v)
    t = h.Vector().record(h._ref_t)

    # 시뮬레이션 실행
    h.finitialize(-65)
    h.continuerun(50)  # 시뮬레이션 시간을 짧게 설정

    return t, recordings

# 각 채널 별 NEURON 모델 실행
try:
    if rank == 0:
        # Red 채널
        t_red, recordings_red = run_neuron_model(red_channel)
        t_red, recordings_red = run_neuron_model(np.transpose(red_channel))  # 가로와 세로를 뒤집음

        # Green 채널
        t_green, recordings_green = run_neuron_model(green_channel)
        t_green, recordings_green = run_neuron_model(np.transpose(green_channel))  # 가로와 세로를 뒤집음

        # Blue 채널
        t_blue, recordings_blue = run_neuron_model(blue_channel)
        t_blue, recordings_blue = run_neuron_model(np.transpose(blue_channel))  # 가로와 세로를 뒤집음
    else:
        run_neuron_model(red_channel)
        run_neuron_model(green_channel)
        run_neuron_model(blue_channel)

    # 병렬 처리 결과 수집
    all_recordings_red = comm.gather(recordings_red, root=0)
    all_recordings_green = comm.gather(recordings_green, root=0)
    all_recordings_blue = comm.gather(recordings_blue, root=0)
    all_times_red = comm.gather(t_red, root=0)
    all_times_green = comm.gather(t_green, root=0)
    all_times_blue = comm.gather(t_blue, root=0)

    if rank == 0:
        print('NEURON 모델 실행 완료.')

        # 전위 데이터 시각화
        plt.figure(figsize=(18, 12))

        # Red 채널
        plt.subplot(3, 1, 1)
        for i in range(10):  # 처음 10개 뉴런의 전위 시각화
            for rec in all_recordings_red:
                plt.plot(all_times_red[0], rec[i], label=f'Neuron {i}')
        plt.xlabel('Time (ms)')
        plt.ylabel('Voltage (mV)')
        plt.title('Neuron Voltage Traces - Red Channel')
        plt.legend()

        # Green 채널
        plt.subplot(3, 1, 2)
        for i in range(10):  # 처음 10개 뉴런의 전위 시각화
            for rec in all_recordings_green:
                plt.plot(all_times_green[0], rec[i], label=f'Neuron {i}')
        plt.xlabel('Time (ms)')
        plt.ylabel('Voltage (mV)')
        plt.title('Neuron Voltage Traces - Green Channel')
        plt.legend()

        # Blue 채널
        plt.subplot(3, 1, 3)
        for i in range(10):  # 처음 10개 뉴런의 전위 시각화
            for rec in all_recordings_blue:
                plt.plot(all_times_blue[0], rec[i], label=f'Neuron {i}')
        plt.xlabel('Time (ms)')
        plt.ylabel('Voltage (mV)')
        plt.title('Neuron Voltage Traces - Blue Channel')
        plt.legend()

        plt.tight_layout()
        plt.show()

except Exception as err:
    print(str(err))
