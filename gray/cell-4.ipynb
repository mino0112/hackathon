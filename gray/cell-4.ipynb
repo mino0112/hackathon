# 함수: 감각 인지 결과 시각화 (이미지 재생성)
def visualize_sensation(recordings, image_shape=imgshp):
    voltage_values = np.zeros(image_shape).flatten()

    for i, recording in enumerate(recordings):
        voltage_array = np.array(recording)  # NEURON 벡터 객체를 numpy 배열로 변환
        voltage_values[i] = np.mean(voltage_array)

    voltage_values = voltage_values.reshape(image_shape)

    # 전위값 기반 이미지 생성
    min_v = voltage_values.min()
    max_v = voltage_values.max()
    if max_v > min_v:  # 정규화가 가능한 경우
        reconstructed_image = (voltage_values - min_v) / (max_v - min_v)
    else:
        reconstructed_image = voltage_values  # 모든 값이 동일한 경우

    # 이미지를 전치 (가로와 세로 뒤집기)
    reconstructed_image_transposed = np.transpose(reconstructed_image)

    plt.figure(figsize=(6, 6))
    plt.imshow(reconstructed_image_transposed, cmap='gray')
    plt.colorbar(label='Mean Voltage')
    plt.title('Reconstructed Image Based on Neuron Voltage')
    plt.axis('off')
    plt.show()

# 감각 인지 결과 시각화
if rank == 0 and 'all_recordings' in locals():
    visualize_sensation(all_recordings[0])
else:
    print('Please ensure that the NEURON model has been run and results are available.')
