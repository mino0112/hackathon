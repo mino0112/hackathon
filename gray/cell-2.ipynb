! pip install neuron
! pip install mpi4py
