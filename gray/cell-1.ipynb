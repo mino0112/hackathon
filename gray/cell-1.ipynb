from IPython.display import display, Javascript
from google.colab.output import eval_js
from base64 import b64decode
import cv2
import numpy as np
import matplotlib.pyplot as plt

#imgshp = (96, 64)  # 약 30초 소요
imgshp = (192, 128)  # 약 3-4분 소요
#imgshp = (384, 256)  # 약 18-20분 소요

# 함수: 사진 촬영
def take_photo(filename='photo.jpg', quality=0.8):
    js = Javascript('''
        async function takePhoto(quality) {
            const div = document.createElement('div');
            const capture = document.createElement('button');
            capture.textContent = 'Capture';
            div.appendChild(capture);

            const video = document.createElement('video');
            video.style.display = 'block';
            const stream = await navigator.mediaDevices.getUserMedia({ video: { facingMode: "environment" } });

            document.body.appendChild(div);
            div.appendChild(video);
            video.srcObject = stream;
            await video.play();

            // Resize the output to fit the video element.
            google.colab.output.setIframeHeight(document.documentElement.scrollHeight, true);

            // Wait for Capture to be clicked.
            await new Promise((resolve) => capture.onclick = resolve);

            const canvas = document.createElement('canvas');
            canvas.width = video.videoWidth;
            canvas.height = video.videoHeight;
            canvas.getContext('2d').drawImage(video, 0, 0);
            stream.getVideoTracks()[0].stop();
            div.remove();
            return canvas.toDataURL('image/jpeg', quality);
        }
    ''')
    display(js)

    data = eval_js('takePhoto({})'.format(quality))
    binary = b64decode(data.split(',')[1])
    with open(filename, 'wb') as f:
        f.write(binary)
    return filename

# 함수: 이미지 전처리
def preprocess_image(image_path, size=imgshp):
    img = cv2.imread(image_path, cv2.IMREAD_GRAYSCALE)  # 흑백으로 읽기
    resized = cv2.resize(img, size)  # 크기 조정
    normalized = resized / 255.0  # 정규화
    return normalized

# 사진 촬영 및 전처리 수행
try:
    filename = take_photo()
    print('Saved to {}'.format(filename))

    # 원본 이미지 읽기
    original_img = cv2.imread(filename)

    # 전처리된 이미지 획득
    image_data = preprocess_image(filename)
    print('Image data preprocessed.')

    # 원본 이미지와 전처리된 이미지 시각화
    plt.figure(figsize=(10, 4))

    # 원본 이미지
    plt.subplot(1, 2, 1)
    plt.imshow(cv2.cvtColor(original_img, cv2.COLOR_BGR2RGB))
    plt.title('Original Image')
    plt.axis('off')

    # 전처리된 이미지
    plt.subplot(1, 2, 2)
    plt.imshow(image_data, cmap='gray')
    plt.title('Preprocessed Image')
    plt.axis('off')

    plt.show()

except Exception as err:
    print(str(err))
